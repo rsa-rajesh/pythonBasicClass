{
 "cells": [
  {
   "cell_type": "markdown",
   "metadata": {},
   "source": [
    "# Working with Modules and Packages in Jupyter\n",
    "This notebook demonstrates how to create and use modules and packages in Python within a Jupyter Notebook.\n",
    "It covers built-in modules, custom modules, third-party packages, and custom packages, along with best practices and troubleshooting tips.\n",
    "To run this notebook, ensure you have the required files (`my_module.py` and `my_package/utils.py`) in the same directory and necessary packages installed."
   ]
  },
  {
   "cell_type": "code",
   "execution_count": null,
   "metadata": {},
   "outputs": [],
   "source": [
    "import math\n",
    "\n",
    "print(math.sqrt(16))  # Output: 4.0\n",
    "print(math.pi)        # Output: 3.141592653589793"
   ]
  },
  {
   "cell_type": "markdown",
   "metadata": {},
   "source": [
    "## Using a Custom Module\n",
    "Create a file named `my_module.py` in the same directory as this notebook with the following content:\n",
    "```python\n",
    "# my_module.py\n",
    "def greet(name):\n",
    "    return f'Hello, {name}!'\n",
    "def add(a, b):\n",
    "    return a + b\n",
    "```\n",
    "Then, import and use the module below."
   ]
  },
  {
   "cell_type": "code",
   "execution_count": null,
   "metadata": {},
   "outputs": [],
   "source": [
    "import my_module\n",
    "\n",
    "print(my_module.greet('Alice'))  # Output: Hello, Alice!\n",
    "print(my_module.add(5, 3))       # Output: 8"
   ]
  },
  {
   "cell_type": "markdown",
   "metadata": {},
   "source": [
    "### Reloading a Module\n",
    "If you modify `my_module.py` while the notebook is running, reload it to reflect changes."
   ]
  },
  {
   "cell_type": "code",
   "execution_count": null,
   "metadata": {},
   "outputs": [],
   "source": [
    "import importlib\n",
    "importlib.reload(my_module)"
   ]
  },
  {
   "cell_type": "markdown",
   "metadata": {},
   "source": [
    "## Using Third-Party Packages\n",
    "Install and use popular packages like `numpy` and `pandas`. Run the installation command below if needed."
   ]
  },
  {
   "cell_type": "code",
   "execution_count": 6,
   "metadata": {},
   "outputs": [
    {
     "name": "stdout",
     "output_type": "stream",
     "text": [
      "zsh:1: command not found: pip\n"
     ]
    }
   ],
   "source": [
    "!pip install numpy pandas"
   ]
  },
  {
   "cell_type": "code",
   "execution_count": 9,
   "metadata": {},
   "outputs": [
    {
     "name": "stdout",
     "output_type": "stream",
     "text": [
      "[2 4 6 8]\n",
      "    Name  Age\n",
      "0  Alice   25\n",
      "1    Bob   30\n"
     ]
    }
   ],
   "source": [
    "import numpy as np\n",
    "import pandas as pd\n",
    "\n",
    "# NumPy example: Create an array\n",
    "arr = np.array([1, 2, 3, 4])\n",
    "print(arr * 2)  # Output: [2 4 6 8]\n",
    "\n",
    "# Pandas example: Create a DataFrame\n",
    "df = pd.DataFrame({'Name': ['Alice', 'Bob'], 'Age': [25, 30]})\n",
    "print(df)"
   ]
  },
  {
   "cell_type": "markdown",
   "metadata": {},
   "source": [
    "## Using a Custom Package\n",
    "Create a package structure in the same directory as this notebook:\n",
    "```\n",
    "my_package/\n",
    "├── __init__.py  # Can be empty\n",
    "└── utils.py\n",
    "```\n",
    "With `utils.py` containing:\n",
    "```python\n",
    "# my_package/utils.py\n",
    "import numpy as np\n",
    "def multiply(a, b):\n",
    "    return a * b\n",
    "def mean(data):\n",
    "    return np.mean(data)\n",
    "```\n",
    "Then, import and use the package below."
   ]
  },
  {
   "cell_type": "code",
   "execution_count": null,
   "metadata": {},
   "outputs": [],
   "source": [
    "from my_package import utils\n",
    "import numpy as np\n",
    "\n",
    "print(utils.multiply(4, 5))  # Output: 20\n",
    "data = np.array([10, 20, 30, 40])\n",
    "print(utils.mean(data))      # Output: 25.0"
   ]
  },
  {
   "cell_type": "markdown",
   "metadata": {},
   "source": [
    "## Best Practices\n",
    "- **Organize Imports**: Place all imports at the start of the notebook.\n",
    "- **Avoid Naming Conflicts**: Don’t name modules the same as built-in or installed packages (e.g., avoid `numpy.py`).\n",
    "- **Use Virtual Environments**: Run `!python -m venv myenv` and activate it to isolate dependencies.\n",
    "- **Document Modules**: Add docstrings to your modules for clarity.\n",
    "- **Check Paths**: If a module/package is not found, add its directory to `sys.path`:\n",
    "```python\n",
    "import sys\n",
    "sys.path.append('/path/to/my_package')\n",
    "```"
   ]
  },
  {
   "cell_type": "markdown",
   "metadata": {},
   "source": [
    "## Troubleshooting\n",
    "- **ModuleNotFoundError**: Ensure the module/package is in the same directory or in `sys.path`.\n",
    "- **Package Issues**: Verify package installation with `!pip show numpy`.\n",
    "- **Kernel Issues**: Select the correct kernel (`Kernel > Change Kernel`) or install one with:\n",
    "```python\n",
    "!pip install ipykernel\n",
    "!python -m ipykernel install --user --name=myenv\n",
    "```"
   ]
  },
  {
   "cell_type": "code",
   "execution_count": null,
   "metadata": {},
   "outputs": [],
   "source": []
  }
 ],
 "metadata": {
  "kernelspec": {
   "display_name": "Python 3 (ipykernel)",
   "language": "python",
   "name": "python3"
  },
  "language_info": {
   "codemirror_mode": {
    "name": "ipython",
    "version": 3
   },
   "file_extension": ".py",
   "mimetype": "text/x-python",
   "name": "python",
   "nbconvert_exporter": "python",
   "pygments_lexer": "ipython3",
   "version": "3.13.5"
  }
 },
 "nbformat": 4,
 "nbformat_minor": 4
}
