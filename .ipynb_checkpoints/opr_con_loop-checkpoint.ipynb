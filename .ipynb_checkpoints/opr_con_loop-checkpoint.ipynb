{
 "cells": [
  {
   "cell_type": "code",
   "execution_count": 2,
   "id": "55e1c001-017f-46dc-9d55-12f40199b5e5",
   "metadata": {},
   "outputs": [
    {
     "name": "stdout",
     "output_type": "stream",
     "text": [
      "15\n",
      "5\n",
      "50\n",
      "2.0\n",
      "2\n",
      "0\n",
      "100000\n"
     ]
    }
   ],
   "source": [
    "#Operators\n",
    "#Arithmetic Operators\n",
    "\n",
    "a, b = 10, 5\n",
    "\n",
    "print(a + b)  # Addition: 15\n",
    "print(a - b)  # Subtraction: 5\n",
    "print(a * b)  # Multiplication: 50\n",
    "print(a / b)  # Division: 2.0\n",
    "print(a // b) # Floor Division: 2\n",
    "print(a % b)  # Modulus: 0\n",
    "print(a ** b) # Exponentiation: 100000\n"
   ]
  },
  {
   "cell_type": "code",
   "execution_count": 14,
   "id": "b35188b4-33e2-406b-abb9-3ad852fc3bb8",
   "metadata": {},
   "outputs": [
    {
     "name": "stdout",
     "output_type": "stream",
     "text": [
      "False\n",
      "True\n",
      "False\n",
      "True\n",
      "False\n",
      "True\n"
     ]
    }
   ],
   "source": [
    "#Operators\n",
    "#Comparison Operators\n",
    "x, y = 10, 20\n",
    "\n",
    "print(x == y)  # Equal: False\n",
    "print(x != y)  # Not Equal: True\n",
    "print(x > y)   # Greater Than: False\n",
    "print(x < y)   # Less Than: True\n",
    "print(x >= y)  # Greater or Equal: False\n",
    "print(x <= y)  # Less or Equal: True"
   ]
  },
  {
   "cell_type": "code",
   "execution_count": 4,
   "id": "191f1fa3-26ef-452c-9eb5-f77b2cc60e22",
   "metadata": {},
   "outputs": [
    {
     "name": "stdout",
     "output_type": "stream",
     "text": [
      "False\n",
      "True\n",
      "False\n"
     ]
    }
   ],
   "source": [
    "#Operators\n",
    "#Logical Operators\n",
    "\n",
    "a, b = True, False\n",
    "\n",
    "print(a and b)  # AND: False\n",
    "print(a or b)   # OR: True\n",
    "print(not a)    # NOT: False"
   ]
  },
  {
   "cell_type": "code",
   "execution_count": 15,
   "id": "282e2cf8-9c68-4559-b472-c5957f16ccb3",
   "metadata": {},
   "outputs": [
    {
     "name": "stdout",
     "output_type": "stream",
     "text": [
      "True\n",
      "False\n",
      "False\n"
     ]
    }
   ],
   "source": [
    "#Operators\n",
    "#Other Operators\n",
    "\n",
    "x = 5\n",
    "x += 3  # x = 8\n",
    "\n",
    "lst = [1, 2, 3]\n",
    "print(2 in lst)      # True\n",
    "print(4 not in lst)  # True\n",
    "\n",
    "a = [1, 2]\n",
    "b = [1, 2]\n",
    "print(a is b)        # False (different objects)"
   ]
  },
  {
   "cell_type": "code",
   "execution_count": 7,
   "id": "588df640-ee20-415a-9728-a7bb8c25f688",
   "metadata": {},
   "outputs": [
    {
     "name": "stdout",
     "output_type": "stream",
     "text": [
      "Adult\n",
      "Adult\n"
     ]
    }
   ],
   "source": [
    "#Conditional Statements\n",
    "# if, elif, else\n",
    "age = 20\n",
    "\n",
    "if age < 18:\n",
    "    print(\"Minor\")\n",
    "elif age >= 18 and age < 65:\n",
    "    print(\"Adult\")\n",
    "else:\n",
    "    print(\"Senior\")\n",
    "\n",
    "# Output: Adult\n",
    "\n",
    "status = \"Minor\" if age < 18 else \"Adult\"\n",
    "print(status)"
   ]
  },
  {
   "cell_type": "code",
   "execution_count": 8,
   "id": "4c496cee-dc97-4b2d-a271-264fe8937ea6",
   "metadata": {},
   "outputs": [
    {
     "name": "stdout",
     "output_type": "stream",
     "text": [
      "apple\n",
      "banana\n",
      "cherry\n",
      "0\n",
      "1\n",
      "2\n"
     ]
    }
   ],
   "source": [
    "#Loops\n",
    "#For Loop\n",
    "# Iterate over a list\n",
    "fruits = [\"apple\", \"banana\", \"cherry\"]\n",
    "for fruit in fruits:\n",
    "    print(fruit)\n",
    "\n",
    "# Output:\n",
    "# apple\n",
    "# banana\n",
    "# cherry\n",
    "\n",
    "# Using range\n",
    "for i in range(3):\n",
    "    print(i)\n",
    "\n",
    "# Output:\n",
    "# 0\n",
    "# 1\n",
    "# 2"
   ]
  },
  {
   "cell_type": "code",
   "execution_count": 9,
   "id": "a13740f1-356a-48a5-99e8-734ea2ac9012",
   "metadata": {},
   "outputs": [
    {
     "name": "stdout",
     "output_type": "stream",
     "text": [
      "0\n",
      "1\n",
      "2\n"
     ]
    }
   ],
   "source": [
    "#Loops\n",
    "#While Loop\n",
    "\n",
    "count = 0\n",
    "while count < 3:\n",
    "    print(count)\n",
    "    count += 1\n",
    "\n",
    "# Output:\n",
    "# 0\n",
    "# 1\n",
    "# 2"
   ]
  },
  {
   "cell_type": "code",
   "execution_count": 10,
   "id": "44c7ba9d-8586-4522-a95a-4e4054c4877a",
   "metadata": {},
   "outputs": [
    {
     "name": "stdout",
     "output_type": "stream",
     "text": [
      "0\n",
      "1\n",
      "2\n",
      "0\n",
      "1\n",
      "2\n",
      "4\n"
     ]
    }
   ],
   "source": [
    "#Loop\n",
    "#break and continue\n",
    "\n",
    "for i in range(5):\n",
    "    if i == 3:\n",
    "        break  # Exit loop when i is 3\n",
    "    print(i)\n",
    "\n",
    "# Output:\n",
    "# 0\n",
    "# 1\n",
    "# 2\n",
    "\n",
    "for i in range(5):\n",
    "    if i == 3:\n",
    "        continue  # Skip i == 3\n",
    "    print(i)\n",
    "\n",
    "# Output:\n",
    "# 0\n",
    "# 1\n",
    "# 2\n",
    "# 4"
   ]
  },
  {
   "cell_type": "code",
   "execution_count": 12,
   "id": "d49cfd5c-03bf-4818-85c8-52ae3569f63a",
   "metadata": {},
   "outputs": [
    {
     "name": "stdout",
     "output_type": "stream",
     "text": [
      "Wednesday\n",
      "Weekend or Invalid day\n"
     ]
    }
   ],
   "source": [
    "#match (same like switch from other)\n",
    "def get_day_name(day):\n",
    "    match day:\n",
    "        case 1:\n",
    "            return \"Monday\"\n",
    "        case 2:\n",
    "            return \"Tuesday\"\n",
    "        case 3:\n",
    "            return \"Wednesday\"\n",
    "        case 4:\n",
    "            return \"Thursday\"\n",
    "        case 5:\n",
    "            return \"Friday\"\n",
    "        case _:\n",
    "            return \"Weekend or Invalid day\"\n",
    "\n",
    "print(get_day_name(3))  # Output: Wednesday\n",
    "print(get_day_name(6))  # Output: Weekend or Invalid day"
   ]
  },
  {
   "cell_type": "code",
   "execution_count": null,
   "id": "d4026ac6-93bd-4303-ae59-7d36c8380c35",
   "metadata": {},
   "outputs": [],
   "source": []
  }
 ],
 "metadata": {
  "kernelspec": {
   "display_name": "Python 3 (ipykernel)",
   "language": "python",
   "name": "python3"
  },
  "language_info": {
   "codemirror_mode": {
    "name": "ipython",
    "version": 3
   },
   "file_extension": ".py",
   "mimetype": "text/x-python",
   "name": "python",
   "nbconvert_exporter": "python",
   "pygments_lexer": "ipython3",
   "version": "3.13.5"
  }
 },
 "nbformat": 4,
 "nbformat_minor": 5
}
