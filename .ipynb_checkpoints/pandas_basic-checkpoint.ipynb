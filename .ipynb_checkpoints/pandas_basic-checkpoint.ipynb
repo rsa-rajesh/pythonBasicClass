{
 "cells": [
  {
   "cell_type": "markdown",
   "metadata": {},
   "source": [
    "# Pandas Examples in Jupyter Notebook\n",
    "This notebook demonstrates the use of Pandas **Series** and **DataFrame** for data manipulation and analysis.\n",
    "\n",
    "## 1. Pandas Series\n",
    "A **Series** is a one-dimensional labeled array capable of holding any data type."
   ]
  },
  {
   "cell_type": "code",
   "execution_count": 1,
   "metadata": {},
   "outputs": [
    {
     "name": "stdout",
     "output_type": "stream",
     "text": [
      "Series:\n",
      "a    10\n",
      "b    20\n",
      "c    30\n",
      "d    40\n",
      "e    50\n",
      "dtype: int64\n",
      "\n",
      "Element at index 'c': 30\n",
      "\n",
      "Series doubled:\n",
      "a     20\n",
      "b     40\n",
      "c     60\n",
      "d     80\n",
      "e    100\n",
      "dtype: int64\n",
      "\n",
      "Values greater than 25:\n",
      "c    30\n",
      "d    40\n",
      "e    50\n",
      "dtype: int64\n",
      "\n",
      "Statistical Summary:\n",
      "count     5.000000\n",
      "mean     30.000000\n",
      "std      15.811388\n",
      "min      10.000000\n",
      "25%      20.000000\n",
      "50%      30.000000\n",
      "75%      40.000000\n",
      "max      50.000000\n",
      "dtype: float64\n"
     ]
    }
   ],
   "source": [
    "# Import pandas\n",
    "import pandas as pd\n",
    "\n",
    "# Create a Series from a list with custom index\n",
    "data = [10, 20, 30, 40, 50]\n",
    "series = pd.Series(data, index=['a', 'b', 'c', 'd', 'e'])\n",
    "\n",
    "# Display the Series\n",
    "print(\"Series:\")\n",
    "print(series)\n",
    "\n",
    "# Accessing elements\n",
    "print(\"\\nElement at index 'c':\", series['c'])\n",
    "\n",
    "# Basic operations\n",
    "series_doubled = series * 2\n",
    "print(\"\\nSeries doubled:\")\n",
    "print(series_doubled)\n",
    "\n",
    "# Filtering\n",
    "print(\"\\nValues greater than 25:\")\n",
    "print(series[series > 25])\n",
    "\n",
    "# Statistical summary\n",
    "print(\"\\nStatistical Summary:\")\n",
    "print(series.describe())"
   ]
  },
  {
   "cell_type": "markdown",
   "metadata": {},
   "source": [
    "## 2. Pandas DataFrame\n",
    "A **DataFrame** is a two-dimensional tabular data structure with labeled rows and columns, similar to a spreadsheet."
   ]
  },
  {
   "cell_type": "code",
   "execution_count": 2,
   "metadata": {},
   "outputs": [
    {
     "name": "stdout",
     "output_type": "stream",
     "text": [
      "DataFrame:\n",
      "      Name  Age  Salary\n",
      "0    Alice   25   50000\n",
      "1      Bob   30   60000\n",
      "2  Charlie   35   75000\n",
      "3    David   40   80000\n",
      "\n",
      "Selecting 'Age' column:\n",
      "0    25\n",
      "1    30\n",
      "2    35\n",
      "3    40\n",
      "Name: Age, dtype: int64\n",
      "\n",
      "Employees with Salary > 60000:\n",
      "      Name  Age  Salary\n",
      "2  Charlie   35   75000\n",
      "3    David   40   80000\n",
      "\n",
      "DataFrame with Bonus column:\n",
      "      Name  Age  Salary   Bonus\n",
      "0    Alice   25   50000  5000.0\n",
      "1      Bob   30   60000  6000.0\n",
      "2  Charlie   35   75000  7500.0\n",
      "3    David   40   80000  8000.0\n",
      "\n",
      "Average Salary by Age group:\n",
      "Age\n",
      "25    50000.0\n",
      "30    60000.0\n",
      "35    75000.0\n",
      "40    80000.0\n",
      "Name: Salary, dtype: float64\n",
      "\n",
      "Statistical Summary of DataFrame:\n",
      "             Age        Salary        Bonus\n",
      "count   4.000000      4.000000     4.000000\n",
      "mean   32.500000  66250.000000  6625.000000\n",
      "std     6.454972  13768.926368  1376.892637\n",
      "min    25.000000  50000.000000  5000.000000\n",
      "25%    28.750000  57500.000000  5750.000000\n",
      "50%    32.500000  67500.000000  6750.000000\n",
      "75%    36.250000  76250.000000  7625.000000\n",
      "max    40.000000  80000.000000  8000.000000\n"
     ]
    }
   ],
   "source": [
    "# Create a DataFrame from a dictionary\n",
    "data = {\n",
    "    'Name': ['Alice', 'Bob', 'Charlie', 'David'],\n",
    "    'Age': [25, 30, 35, 40],\n",
    "    'Salary': [50000, 60000, 75000, 80000]\n",
    "}\n",
    "df = pd.DataFrame(data)\n",
    "\n",
    "# Display the DataFrame\n",
    "print(\"DataFrame:\")\n",
    "print(df)\n",
    "\n",
    "# Selecting a column\n",
    "print(\"\\nSelecting 'Age' column:\")\n",
    "print(df['Age'])\n",
    "\n",
    "# Filtering rows\n",
    "print(\"\\nEmployees with Salary > 60000:\")\n",
    "print(df[df['Salary'] > 60000])\n",
    "\n",
    "# Adding a new column\n",
    "df['Bonus'] = df['Salary'] * 0.1\n",
    "print(\"\\nDataFrame with Bonus column:\")\n",
    "print(df)\n",
    "\n",
    "# Grouping and aggregating\n",
    "print(\"\\nAverage Salary by Age group:\")\n",
    "age_group = df.groupby('Age')['Salary'].mean()\n",
    "print(age_group)\n",
    "\n",
    "# Statistical summary\n",
    "print(\"\\nStatistical Summary of DataFrame:\")\n",
    "print(df.describe())"
   ]
  },
  {
   "cell_type": "markdown",
   "metadata": {},
   "source": [
    "## Notes\n",
    "- Run each code cell to see the output.\n",
    "- Use `df.head()` to preview the first few rows of a DataFrame.\n",
    "- Save the DataFrame to a CSV file with `df.to_csv('output.csv')` if needed."
   ]
  }
 ],
 "metadata": {
  "kernelspec": {
   "display_name": "Python 3 (ipykernel)",
   "language": "python",
   "name": "python3"
  },
  "language_info": {
   "codemirror_mode": {
    "name": "ipython",
    "version": 3
   },
   "file_extension": ".py",
   "mimetype": "text/x-python",
   "name": "python",
   "nbconvert_exporter": "python",
   "pygments_lexer": "ipython3",
   "version": "3.13.5"
  }
 },
 "nbformat": 4,
 "nbformat_minor": 4
}
