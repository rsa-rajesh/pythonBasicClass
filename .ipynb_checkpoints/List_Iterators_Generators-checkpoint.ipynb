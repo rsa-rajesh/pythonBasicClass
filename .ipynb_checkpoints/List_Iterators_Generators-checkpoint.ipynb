{
 "cells": [
  {
   "cell_type": "code",
   "execution_count": 1,
   "metadata": {},
   "outputs": [
    {
     "name": "stdout",
     "output_type": "stream",
     "text": [
      "['apple', 'banana', 'orange', 'grape']\n",
      "banana\n",
      "grape\n",
      "['apple', 'banana', 'orange', 'grape', 'mango']\n",
      "['apple', 'orange', 'grape', 'mango']\n"
     ]
    }
   ],
   "source": [
    "# Creating and manipulating lists\n",
    "fruits = ['apple', 'banana', 'orange', 'grape']\n",
    "print(fruits)\n",
    "print(fruits[1])  # Accessing second item\n",
    "print(fruits[-1])  # Accessing last item\n",
    "fruits.append('mango')  # Adding an item\n",
    "print(fruits)\n",
    "fruits.remove('banana')  # Removing an item\n",
    "print(fruits)"
   ]
  },
  {
   "cell_type": "code",
   "execution_count": 2,
   "metadata": {},
   "outputs": [
    {
     "name": "stdout",
     "output_type": "stream",
     "text": [
      "[3, 4, 5]\n",
      "[1, 2, 3, 4]\n",
      "[6, 7, 8, 9, 10]\n",
      "[1, 3, 5, 7, 9]\n"
     ]
    }
   ],
   "source": [
    "# List slicing\n",
    "numbers = [1, 2, 3, 4, 5, 6, 7, 8, 9, 10]\n",
    "print(numbers[2:5])  # Slice from index 2 to 4\n",
    "print(numbers[:4])   # Slice from start to index 3\n",
    "print(numbers[5:])   # Slice from index 5 to end\n",
    "print(numbers[::2])  # Every second element"
   ]
  },
  {
   "cell_type": "code",
   "execution_count": 3,
   "metadata": {},
   "outputs": [
    {
     "name": "stdout",
     "output_type": "stream",
     "text": [
      "[1, 4, 9, 16, 25]\n"
     ]
    }
   ],
   "source": [
    "# Basic list comprehension: squares of numbers\n",
    "squares = [x**2 for x in range(1, 6)]\n",
    "print(squares)"
   ]
  },
  {
   "cell_type": "code",
   "execution_count": 4,
   "metadata": {},
   "outputs": [
    {
     "name": "stdout",
     "output_type": "stream",
     "text": [
      "[2, 4, 6, 8, 10]\n"
     ]
    }
   ],
   "source": [
    "# List comprehension with condition: even numbers only\n",
    "evens = [x for x in range(1, 11) if x % 2 == 0]\n",
    "print(evens)"
   ]
  },
  {
   "cell_type": "code",
   "execution_count": 5,
   "metadata": {},
   "outputs": [
    {
     "name": "stdout",
     "output_type": "stream",
     "text": [
      "['Hello', 'World', 'Python']\n"
     ]
    }
   ],
   "source": [
    "# List comprehension with strings: capitalize first letter\n",
    "words = ['hello', 'world', 'python']\n",
    "capitalized = [word.capitalize() for word in words]\n",
    "print(capitalized)"
   ]
  },
  {
   "cell_type": "code",
   "execution_count": 6,
   "metadata": {},
   "outputs": [
    {
     "name": "stdout",
     "output_type": "stream",
     "text": [
      "[1, 2, 3, 4, 5, 6, 7, 8, 9]\n"
     ]
    }
   ],
   "source": [
    "# Nested list comprehension: flatten a matrix\n",
    "matrix = [[1, 2, 3], [4, 5, 6], [7, 8, 9]]\n",
    "flattened = [num for row in matrix for num in row]\n",
    "print(flattened)"
   ]
  },
  {
   "cell_type": "code",
   "execution_count": 7,
   "metadata": {},
   "outputs": [
    {
     "name": "stdout",
     "output_type": "stream",
     "text": [
      "[6, 8, 10]\n"
     ]
    }
   ],
   "source": [
    "# List comprehension with multiple conditions\n",
    "numbers = [1, 2, 3, 4, 5, 6, 7, 8, 9, 10]\n",
    "filtered = [x for x in numbers if x % 2 == 0 and x > 5]\n",
    "print(filtered)"
   ]
  },
  {
   "cell_type": "code",
   "execution_count": 8,
   "metadata": {},
   "outputs": [
    {
     "name": "stdout",
     "output_type": "stream",
     "text": [
      "['odd', 'even', 'odd', 'even', 'odd']\n"
     ]
    }
   ],
   "source": [
    "# List comprehension with if-else: categorize numbers\n",
    "numbers = [1, 2, 3, 4, 5]\n",
    "categorized = ['even' if x % 2 == 0 else 'odd' for x in numbers]\n",
    "print(categorized)"
   ]
  },
  {
   "cell_type": "code",
   "execution_count": 9,
   "metadata": {},
   "outputs": [
    {
     "name": "stdout",
     "output_type": "stream",
     "text": [
      "[(2, 4), (4, 16), (6, 36), (8, 64), (10, 100)]\n"
     ]
    }
   ],
   "source": [
    "# Create a list of tuples with number and its square, for even numbers only\n",
    "numbers = range(1, 11)\n",
    "result = [(x, x**2) for x in numbers if x % 2 == 0]\n",
    "print(result)"
   ]
  },
  {
   "cell_type": "code",
   "execution_count": 10,
   "metadata": {},
   "outputs": [
    {
     "name": "stdout",
     "output_type": "stream",
     "text": [
      "apple\n",
      "banana\n",
      "orange\n"
     ]
    }
   ],
   "source": [
    "# Creating an iterator from a list\n",
    "fruits = ['apple', 'banana', 'orange']\n",
    "iterator = iter(fruits)\n",
    "print(next(iterator))  # First item\n",
    "print(next(iterator))  # Second item\n",
    "print(next(iterator))  # Third item\n",
    "# print(next(iterator))  # Would raise StopIteration"
   ]
  },
  {
   "cell_type": "code",
   "execution_count": 11,
   "metadata": {},
   "outputs": [
    {
     "name": "stdout",
     "output_type": "stream",
     "text": [
      "0\n",
      "2\n",
      "4\n",
      "6\n",
      "8\n"
     ]
    }
   ],
   "source": [
    "# Defining a custom iterator for even numbers\n",
    "class EvenNumbers:\n",
    "    def __init__(self, max_num):\n",
    "        self.max_num = max_num\n",
    "        self.current = 0\n",
    "    \n",
    "    def __iter__(self):\n",
    "        return self\n",
    "    \n",
    "    def __next__(self):\n",
    "        if self.current >= self.max_num:\n",
    "            raise StopIteration\n",
    "        result = self.current\n",
    "        self.current += 2\n",
    "        return result\n",
    "\n",
    "even_iter = EvenNumbers(10)\n",
    "for num in even_iter:\n",
    "    print(num)"
   ]
  },
  {
   "cell_type": "code",
   "execution_count": 12,
   "metadata": {},
   "outputs": [
    {
     "name": "stdout",
     "output_type": "stream",
     "text": [
      "[0, 1, 4, 9, 16]\n"
     ]
    }
   ],
   "source": [
    "# Generator function for squares\n",
    "def square_generator(n):\n",
    "    for i in range(n):\n",
    "        yield i**2\n",
    "\n",
    "squares = square_generator(5)\n",
    "print(list(squares))  # Convert generator to list"
   ]
  },
  {
   "cell_type": "code",
   "execution_count": 13,
   "metadata": {},
   "outputs": [
    {
     "name": "stdout",
     "output_type": "stream",
     "text": [
      "<class 'generator'>\n",
      "2\n",
      "4\n",
      "6\n",
      "8\n",
      "10\n"
     ]
    }
   ],
   "source": [
    "# Generator expression (similar to list comprehension)\n",
    "evens = (x for x in range(1, 11) if x % 2 == 0)\n",
    "print(type(evens))  # Check type\n",
    "for num in evens:\n",
    "    print(num)"
   ]
  },
  {
   "cell_type": "code",
   "execution_count": 14,
   "metadata": {},
   "outputs": [
    {
     "name": "stdout",
     "output_type": "stream",
     "text": [
      "0\n",
      "1\n",
      "1\n",
      "2\n",
      "3\n",
      "5\n"
     ]
    }
   ],
   "source": [
    "# Infinite generator for Fibonacci numbers\n",
    "def fibonacci():\n",
    "    a, b = 0, 1\n",
    "    while True:\n",
    "        yield a\n",
    "        a, b = b, a + b\n",
    "\n",
    "fib = fibonacci()\n",
    "# Get first 6 Fibonacci numbers\n",
    "for _ in range(6):\n",
    "    print(next(fib))"
   ]
  },
  {
   "cell_type": "code",
   "execution_count": 15,
   "metadata": {},
   "outputs": [
    {
     "name": "stdout",
     "output_type": "stream",
     "text": [
      "0\n",
      "1\n",
      "10\n",
      "11\n"
     ]
    }
   ],
   "source": [
    "# Generator with send for two-way communication\n",
    "def counter():\n",
    "    count = 0\n",
    "    while True:\n",
    "        received = yield count\n",
    "        if received is not None:\n",
    "            count = received\n",
    "        else:\n",
    "            count += 1\n",
    "\n",
    "c = counter()\n",
    "print(next(c))  # Start generator\n",
    "print(next(c))  # Increment\n",
    "print(c.send(10))  # Send new value\n",
    "print(next(c))  # Increment from new value"
   ]
  }
 ],
 "metadata": {
  "kernelspec": {
   "display_name": "Python 3",
   "language": "python",
   "name": "python3"
  },
  "language_info": {
   "codemirror_mode": {
    "name": "ipython",
    "version": 3
   },
   "file_extension": ".py",
   "mimetype": "text/x-python",
   "name": "python",
   "nbconvert_exporter": "python",
   "pygments_lexer": "ipython3",
   "version": "3.8.0"
  }
 },
 "nbformat": 4,
 "nbformat_minor": 4
}