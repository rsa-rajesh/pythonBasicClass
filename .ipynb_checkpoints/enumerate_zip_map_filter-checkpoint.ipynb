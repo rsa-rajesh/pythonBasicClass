{
 "cells": [
  {
   "cell_type": "markdown",
   "metadata": {},
   "source": [
    "# Python `enumerate`, `zip`, `map`, and `filter` Examples\n",
    "\n",
    "This notebook demonstrates the usage of Python's built-in functions `enumerate`, `zip`, `map`, and `filter` for iterating and manipulating iterables."
   ]
  },
  {
   "cell_type": "markdown",
   "metadata": {},
   "source": [
    "## 1. `enumerate`\n",
    "\n",
    "**Purpose**: Iterates over an iterable while keeping track of the index and value of each item.\n",
    "\n",
    "**Syntax**: `enumerate(iterable, start=0)`\n",
    "\n",
    "**Returns**: An iterator of tuples, where each tuple contains the index and the corresponding item from the iterable."
   ]
  },
  {
   "cell_type": "code",
   "execution_count": null,
   "metadata": {},
   "outputs": [],
   "source": [
    "fruits = ['apple', 'banana', 'orange']\n",
    "for index, value in enumerate(fruits, start=1):\n",
    "    print(f\"{index}: {value}\")"
   ]
  },
  {
   "cell_type": "markdown",
   "metadata": {},
   "source": [
    "## 2. `zip`\n",
    "\n",
    "**Purpose**: Combines multiple iterables into a single iterator of tuples, where each tuple contains the corresponding elements from the input iterables.\n",
    "\n",
    "**Syntax**: `zip(*iterables, strict=False)` (In Python 3.10+, `strict=True` ensures all iterables have the same length.)\n",
    "\n",
    "**Returns**: An iterator of tuples, where the i-th tuple contains the i-th element from each iterable."
   ]
  },
  {
   "cell_type": "code",
   "execution_count": null,
   "metadata": {},
   "outputs": [],
   "source": [
    "names = ['Alice', 'Bob', 'Charlie']\n",
    "ages = [25, 30, 35]\n",
    "for name, age in zip(names, ages):\n",
    "    print(f\"{name} is {age} years old\")"
   ]
  },
  {
   "cell_type": "markdown",
   "metadata": {},
   "source": [
    "## 3. `map`\n",
    "\n",
    "**Purpose**: Applies a given function to each item of an iterable (or multiple iterables) and returns an iterator of the results.\n",
    "\n",
    "**Syntax**: `map(function, iterable, ...)`\n",
    "\n",
    "**Returns**: An iterator of the results after applying the function to each item."
   ]
  },
  {
   "cell_type": "code",
   "execution_count": null,
   "metadata": {},
   "outputs": [],
   "source": [
    "numbers = [1, 2, 3, 4]\n",
    "squares = list(map(lambda x: x**2, numbers))\n",
    "print(squares)"
   ]
  },
  {
   "cell_type": "markdown",
   "metadata": {},
   "source": [
    "## 4. `filter`\n",
    "\n",
    "**Purpose**: Filters elements from an iterable based on a function that returns `True` or `False`, keeping only elements where the function returns `True`.\n",
    "\n",
    "**Syntax**: `filter(function, iterable)`\n",
    "\n",
    "**Returns**: An iterator of elements for which the function returns `True`."
   ]
  },
  {
   "cell_type": "code",
   "execution_count": null,
   "metadata": {},
   "outputs": [],
   "source": [
    "numbers = [1, 2, 3, 4, 5, 6]\n",
    "evens = list(filter(lambda x: x % 2 == 0, numbers))\n",
    "print(evens)"
   ]
  },
  {
   "cell_type": "markdown",
   "metadata": {},
   "source": [
    "## Key Notes\n",
    "- All four functions return iterators, so you often need to convert the result to a list (using `list()`) if you want to see all results at once.\n",
    "- They are commonly used in functional programming to make code concise and readable.\n",
    "- `enumerate` and `zip` are often used in loops, while `map` and `filter` are frequently paired with `lambda` functions for transformations and filtering."
   ]
  }
 ],
 "metadata": {
  "kernelspec": {
   "display_name": "Python 3",
   "language": "python",
   "name": "python3"
  },
  "language_info": {
   "codemirror_mode": {
    "name": "ipython",
    "version": 3
   },
   "file_extension": ".py",
   "mimetype": "text/x-python",
   "name": "python",
   "nbconvert_exporter": "python",
   "pygments_lexer": "ipython3",
   "version": "3.10.0"
  }
 },
 "nbformat": 4,
 "nbformat_minor": 4
}