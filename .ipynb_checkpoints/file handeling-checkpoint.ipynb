{
 "cells": [
  {
   "cell_type": "markdown",
   "metadata": {},
   "source": [
    "# File Handling in Python\n",
    "This notebook demonstrates reading and writing .txt and .csv files in Python."
   ]
  },
  {
   "cell_type": "markdown",
   "metadata": {},
   "source": [
    "## 1. Handling .txt Files"
   ]
  },
  {
   "cell_type": "code",
   "execution_count": null,
   "metadata": {},
   "outputs": [],
   "source": [
    "# Writing to a .txt file\n",
    "with open('sample.txt', 'w') as file:\n",
    "    file.write('Hello, this is a sample text file!\\n')\n",
    "    file.write('Second line of text.')\n",
    "\n",
    "# Reading from a .txt file\n",
    "with open('sample.txt', 'r') as file:\n",
    "    content = file.read()\n",
    "    print('Content of sample.txt:')\n",
    "    print(content)"
   ]
  },
  {
   "cell_type": "markdown",
   "metadata": {},
   "source": [
    "## 2. Handling .csv Files\n",
    "Using the csv module for structured data"
   ]
  },
  {
   "cell_type": "code",
   "execution_count": null,
   "metadata": {},
   "outputs": [],
   "source": [
    "import csv\n",
    "\n",
    "# Writing to a .csv file\n",
    "data = [\n",
    "    ['Name', 'Age', 'City'],\n",
    "    ['Alice', 25, 'New York'],\n",
    "    ['Bob', 30, 'London'],\n",
    "    ['Charlie', 35, 'Paris']\n",
    "]\n",
    "\n",
    "with open('people.csv', 'w', newline='') as file:\n",
    "    writer = csv.writer(file)\n",
    "    writer.writerows(data)\n",
    "\n",
    "# Reading from a .csv file\n",
    "with open('people.csv', 'r') as file:\n",
    "    reader = csv.reader(file)\n",
    "    print('Content of people.csv:')\n",
    "    for row in reader:\n",
    "        print(row)"
   ]
  },
  {
   "cell_type": "markdown",
   "metadata": {},
   "source": [
    "## 3. Using pandas for .csv Files\n",
    "pandas provides a more convenient way to handle .csv files"
   ]
  },
  {
   "cell_type": "code",
   "execution_count": null,
   "metadata": {},
   "outputs": [],
   "source": [
    "import pandas as pd\n",
    "\n",
    "# Writing to a .csv file using pandas\n",
    "df = pd.DataFrame({\n",
    "    'Name': ['David', 'Emma', 'Frank'],\n",
    "    'Age': [28, 22, 40],\n",
    "    'City': ['Tokyo', 'Sydney', 'Berlin']\n",
    "})\n",
    "df.to_csv('people_pandas.csv', index=False)\n",
    "\n",
    "# Reading from a .csv file using pandas\n",
    "df_read = pd.read_csv('people_pandas.csv')\n",
    "print('Content of people_pandas.csv:')\n",
    "print(df_read)"
   ]
  }
 ],
 "metadata": {
  "kernelspec": {
   "display_name": "Python 3",
   "language": "python",
   "name": "python3"
  },
  "language_info": {
   "codemirror_mode": {
    "name": "ipython",
    "version": 3
   },
   "file_extension": ".py",
   "mimetype": "text/x-python",
   "name": "python",
   "nbconvert_exporter": "python",
   "pygments_lexer": "ipython3",
   "version": "3.8.0"
  }
 },
 "nbformat": 4,
 "nbformat_minor": 4
}