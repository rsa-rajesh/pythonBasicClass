{
 "cells": [
  {
   "cell_type": "markdown",
   "metadata": {},
   "source": [
    "# Functions and Parameters in Python (Jupyter Notebook)\n",
    "\n",
    "This notebook covers the basics of functions and parameters in Python, with examples tailored for Jupyter Notebooks. Functions are reusable blocks of code that perform specific tasks and can take inputs (parameters) to produce outputs."
   ]
  },
  {
   "cell_type": "markdown",
   "metadata": {},
   "source": [
    "## 1. Defining a Basic Function\n",
    "A function is defined using the `def` keyword. Here's a simple example that prints a greeting."
   ]
  },
  {
   "cell_type": "code",
   "execution_count": null,
   "metadata": {},
   "outputs": [],
   "source": [
    "def greet():\n",
    "    print(\"Hello, welcome to Jupyter!\")\n",
    "\n",
    "greet()"
   ]
  },
  {
   "cell_type": "markdown",
   "metadata": {},
   "source": [
    "## 2. Functions with Parameters\n",
    "Parameters allow functions to accept inputs. Here's an example with a single parameter."
   ]
  },
  {
   "cell_type": "code",
   "execution_count": null,
   "metadata": {},
   "outputs": [],
   "source": [
    "def greet_user(name):\n",
    "    print(f\"Hello, {name}!\")\n",
    "\n",
    "greet_user(\"Alice\")"
   ]
  },
  {
   "cell_type": "markdown",
   "metadata": {},
   "source": [
    "You can define functions with multiple parameters."
   ]
  },
  {
   "cell_type": "code",
   "execution_count": null,
   "metadata": {},
   "outputs": [],
   "source": [
    "def add_numbers(a, b):\n",
    "    return a + b\n",
    "\n",
    "result = add_numbers(5, 3)\n",
    "print(result)"
   ]
  },
  {
   "cell_type": "markdown",
   "metadata": {},
   "source": [
    "## 3. Types of Parameters\n",
    "\n",
    "### a. Positional Parameters\n",
    "Parameters must be passed in the order they are defined."
   ]
  },
  {
   "cell_type": "code",
   "execution_count": null,
   "metadata": {},
   "outputs": [],
   "source": [
    "def describe_person(name, age):\n",
    "    print(f\"{name} is {age} years old.\")\n",
    "\n",
    "describe_person(\"Bob\", 25)"
   ]
  },
  {
   "cell_type": "markdown",
   "metadata": {},
   "source": [
    "### b. Default Parameters\n",
    "Parameters can have default values, making them optional."
   ]
  },
  {
   "cell_type": "code",
   "execution_count": null,
   "metadata": {},
   "outputs": [],
   "source": [
    "def greet_user(name=\"Guest\"):\n",
    "    print(f\"Hello, {name}!\")\n",
    "\n",
    "greet_user()          # Uses default value\n",
    "greet_user(\"Charlie\") # Overrides default"
   ]
  },
  {
   "cell_type": "markdown",
   "metadata": {},
   "source": [
    "### c. Keyword Parameters\n",
    "You can specify parameter names to pass arguments in any order."
   ]
  },
  {
   "cell_type": "code",
   "execution_count": null,
   "metadata": {},
   "outputs": [],
   "source": [
    "def describe_person(name, age):\n",
    "    print(f\"{name} is {age} years old.\")\n",
    "\n",
    "describe_person(age=30, name=\"David\")"
   ]
  },
  {
   "cell_type": "markdown",
   "metadata": {},
   "source": [
    "### d. Variable-Length Parameters\n",
    "- `*args`: For a variable number of positional arguments (received as a tuple).\n",
    "- `**kwargs`: For a variable number of keyword arguments (received as a dictionary)."
   ]
  },
  {
   "cell_type": "code",
   "execution_count": null,
   "metadata": {},
   "outputs": [],
   "source": [
    "def print_info(*args, **kwargs):\n",
    "    print(\"Positional args:\", args)\n",
    "    print(\"Keyword args:\", kwargs)\n",
    "\n",
    "print_info(1, 2, 3, name=\"Eve\", age=28)"
   ]
  },
  {
   "cell_type": "markdown",
   "metadata": {},
   "source": [
    "## 4. Returning Values\n",
    "Functions can return values using the `return` statement."
   ]
  },
  {
   "cell_type": "code",
   "execution_count": null,
   "metadata": {},
   "outputs": [],
   "source": [
    "def square(number):\n",
    "    return number * number\n",
    "\n",
    "result = square(4)\n",
    "print(result)"
   ]
  },
  {
   "cell_type": "markdown",
   "metadata": {},
   "source": [
    "## 5. Visualizing with Functions\n",
    "Jupyter Notebooks are great for combining functions with visualizations using libraries like `matplotlib`."
   ]
  },
  {
   "cell_type": "code",
   "execution_count": null,
   "metadata": {},
   "outputs": [],
   "source": [
    "import matplotlib.pyplot as plt\n",
    "import numpy as np\n",
    "\n",
    "def plot_square(x):\n",
    "    return x ** 2\n",
    "\n",
    "x = np.linspace(-5, 5, 100)\n",
    "y = plot_square(x)\n",
    "\n",
    "plt.plot(x, y)\n",
    "plt.title(\"Square Function\")\n",
    "plt.xlabel(\"x\")\n",
    "plt.ylabel(\"y\")\n",
    "plt.grid(True)\n",
    "plt.show()"
   ]
  },
  {
   "cell_type": "markdown",
   "metadata": {},
   "source": [
    "## 6. Advanced Example: Combining Features\n",
    "Here's a function that performs operations on a list of numbers, with a docstring for documentation."
   ]
  },
  {
   "cell_type": "code",
   "execution_count": null,
   "metadata": {},
   "outputs": [],
   "source": [
    "def analyze_data(numbers, operation=\"sum\"):\n",
    "    \"\"\"\n",
    "    Performs an operation (sum or average) on a list of numbers.\n",
    "    \n",
    "    Args:\n",
    "        numbers (list): List of numbers.\n",
    "        operation (str): Operation to perform ('sum' or 'average').\n",
    "    \n",
    "    Returns:\n",
    "        float or int: Result of the operation.\n",
    "    \"\"\"\n",
    "    if operation == \"sum\":\n",
    "        return sum(numbers)\n",
    "    elif operation == \"average\":\n",
    "        return sum(numbers) / len(numbers) if numbers else 0\n",
    "    else:\n",
    "        raise ValueError(\"Invalid operation\")\n",
    "\n",
    "data = [1, 2, 3, 4, 5]\n",
    "print(analyze_data(data))          # Default: sum\n",
    "print(analyze_data(data, \"average\"))  # Specify operation"
   ]
  },
  {
   "cell_type": "markdown",
   "metadata": {},
   "source": [
    "## 7. Visualizing Multiple Datasets\n",
    "You can use functions to visualize results, like the sums of multiple datasets."
   ]
  },
  {
   "cell_type": "code",
   "execution_count": null,
   "metadata": {},
   "outputs": [],
   "source": [
    "import matplotlib.pyplot as plt\n",
    "\n",
    "def plot_sums(datasets):\n",
    "    sums = [analyze_data(data) for data in datasets]\n",
    "    labels = [f\"Dataset {i+1}\" for i in range(len(datasets))]\n",
    "    \n",
    "    plt.bar(labels, sums, color=['#1f77b4', '#ff7f0e', '#2ca02c'])\n",
    "    plt.title(\"Sum of Datasets\")\n",
    "    plt.ylabel(\"Sum\")\n",
    "    plt.show()\n",
    "\n",
    "datasets = [[1, 2, 3], [4, 5, 6], [7, 8, 9]]\n",
    "plot_sums(datasets)"
   ]
  },
  {
   "cell_type": "markdown",
   "metadata": {},
   "source": [
    "## 8. Best Practices\n",
    "- **Clear Naming**: Use descriptive names (e.g., `calculate_area` instead of `func1`).\n",
    "- **Docstrings**: Add documentation to explain what the function does.\n",
    "- **Keep It Simple**: Functions should do one thing well.\n",
    "- **Test in Cells**: Use Jupyter's interactive nature to test functions incrementally.\n",
    "\n",
    "## 9. Notes for Jupyter Users\n",
    "- **Cell Execution Order**: Ensure functions are defined before calling them.\n",
    "- **Interactive Debugging**: Use `print()` or `display()` to inspect results.\n",
    "- **Save and Share**: Save your notebook to preserve function definitions."
   ]
  }
 ],
 "metadata": {
  "kernelspec": {
   "display_name": "Python 3",
   "language": "python",
   "name": "python3"
  },
  "language_info": {
   "codemirror_mode": {
    "name": "ipython",
    "version": 3
   },
   "file_extension": ".py",
   "mimetype": "text/x-python",
   "name": "python",
   "nbconvert_exporter": "python",
   "pygments_lexer": "ipython3",
   "version": "3.8.5"
  }
 },
 "nbformat": 4,
 "nbformat_minor": 4
}