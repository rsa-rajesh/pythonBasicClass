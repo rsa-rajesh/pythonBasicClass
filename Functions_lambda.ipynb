{
 "cells": [
  {
   "cell_type": "markdown",
   "metadata": {},
   "source": [
    "# Lambda Functions in Python\n",
    "Lambda functions in Python are small, anonymous functions defined using the `lambda` keyword. They are used for creating functions on the fly, often for short-term use, and can take any number of arguments but have only one expression. The syntax is:\n",
    "```python\n",
    "lambda arguments: expression\n",
    "```\n",
    "Below are examples demonstrating their use."
   ]
  },
  {
   "cell_type": "markdown",
   "metadata": {},
   "source": [
    "## 1. Basic Lambda Function\n",
    "A lambda function can replace a simple `def` function for one-off calculations."
   ]
  },
  {
   "cell_type": "code",
   "execution_count": 16,
   "metadata": {},
   "outputs": [
    {
     "name": "stdout",
     "output_type": "stream",
     "text": [
      "25\n",
      "25\n"
     ]
    }
   ],
   "source": [
    "# Regular function\n",
    "def square(num):\n",
    "    return num * num\n",
    "\n",
    "# Equivalent lambda function\n",
    "square_lambda = lambda x: x * x\n",
    "\n",
    "print(square(5))          # Output: 25\n",
    "print(square_lambda(5))   # Output: 25"
   ]
  },
  {
   "cell_type": "markdown",
   "metadata": {},
   "source": [
    "## 2. Lambda with Multiple Arguments\n",
    "Lambda functions can take multiple arguments."
   ]
  },
  {
   "cell_type": "code",
   "execution_count": null,
   "metadata": {},
   "outputs": [],
   "source": [
    "# Lambda to add two numbers\n",
    "add = lambda x, y: x + y\n",
    "\n",
    "print(add(3, 4))  # Output: 7"
   ]
  },
  {
   "cell_type": "markdown",
   "metadata": {},
   "source": [
    "## 3. Using Lambda in Higher-Order Functions\n",
    "Lambda functions are commonly used with functions like `map()`, `filter()`, and `sorted()`."
   ]
  },
  {
   "cell_type": "markdown",
   "metadata": {},
   "source": [
    "### Example with `map()`\n",
    "Apply a function to every item in an iterable."
   ]
  },
  {
   "cell_type": "code",
   "execution_count": null,
   "metadata": {},
   "outputs": [],
   "source": [
    "numbers = [1, 2, 3, 4]\n",
    "squares = list(map(lambda x: x**2, numbers))\n",
    "\n",
    "print(squares)  # Output: [1, 4, 9, 16]"
   ]
  },
  {
   "cell_type": "markdown",
   "metadata": {},
   "source": [
    "### Example with `filter()`\n",
    "Filter items in an iterable based on a condition."
   ]
  },
  {
   "cell_type": "code",
   "execution_count": null,
   "metadata": {},
   "outputs": [],
   "source": [
    "numbers = [1, 2, 3, 4, 5, 6]\n",
    "evens = list(filter(lambda x: x % 2 == 0, numbers))\n",
    "\n",
    "print(evens)  # Output: [2, 4, 6]"
   ]
  },
  {
   "cell_type": "markdown",
   "metadata": {},
   "source": [
    "### Example with `sorted()`\n",
    "Sort a list of tuples based on a specific key."
   ]
  },
  {
   "cell_type": "code",
   "execution_count": null,
   "metadata": {},
   "outputs": [],
   "source": [
    "people = [(\"Alice\", 25), (\"Bob\", 30), (\"Charlie\", 20)]\n",
    "sorted_people = sorted(people, key=lambda x: x[1])\n",
    "\n",
    "print(sorted_people)  # Output: [('Charlie', 20), ('Alice', 25), ('Bob', 30)]"
   ]
  },
  {
   "cell_type": "markdown",
   "metadata": {},
   "source": [
    "## 4. Lambda in List Comprehensions\n",
    "Lambda functions can be used inline for quick operations.\n",
    "**Note**: The first example shows a common gotcha with lambdas in loops due to Python’s late binding closures. The second example fixes this."
   ]
  },
  {
   "cell_type": "code",
   "execution_count": null,
   "metadata": {},
   "outputs": [],
   "source": [
    "# Incorrect behavior due to late binding\n",
    "funcs = [lambda x: x + n for n in range(3)]\n",
    "for f in funcs:\n",
    "    print(f(1))  # Output: 3, 3, 3\n",
    "\n",
    "# Corrected with default argument\n",
    "funcs = [lambda x, n=n: x + n for n in range(3)]\n",
    "for f in funcs:\n",
    "    print(f(1))  # Output: 1, 2, 3"
   ]
  },
  {
   "cell_type": "markdown",
   "metadata": {},
   "source": [
    "## 5. Lambda for Conditional Logic\n",
    "You can use conditional expressions in lambda functions."
   ]
  },
  {
   "cell_type": "code",
   "execution_count": null,
   "metadata": {},
   "outputs": [],
   "source": [
    "# Lambda to return \"even\" or \"odd\"\n",
    "check_even_odd = lambda x: \"even\" if x % 2 == 0 else \"odd\"\n",
    "\n",
    "print(check_even_odd(4))  # Output: even\n",
    "print(check_even_odd(5))  # Output: odd"
   ]
  },
  {
   "cell_type": "markdown",
   "metadata": {},
   "source": [
    "## 6. Practical Use Case: Sorting Dictionaries\n",
    "Sort a list of dictionaries by a specific key."
   ]
  },
  {
   "cell_type": "code",
   "execution_count": null,
   "metadata": {},
   "outputs": [],
   "source": [
    "data = [{\"name\": \"Alice\", \"age\": 25}, {\"name\": \"Bob\", \"age\": 30}, {\"name\": \"Charlie\", \"age\": 20}]\n",
    "sorted_data = sorted(data, key=lambda x: x[\"age\"])\n",
    "\n",
    "print(sorted_data)  # Output: [{'name': 'Charlie', 'age': 20}, {'name': 'Alice', 'age': 25}, {'name': 'Bob', 'age': 30}]"
   ]
  },
  {
   "cell_type": "markdown",
   "metadata": {},
   "source": [
    "## 7. Exception Handling\n",
    "- `try`: Contains code that might raise an exception.\n",
    "- `except`: Catches and handles specific exceptions.\n",
    "- `else`: Runs if no exception occurs in the try block.\n",
    "- `finally`: Executes regardless of whether an exception occurs, often used for cleanup."
   ]
  },
  {
   "cell_type": "code",
   "execution_count": 22,
   "metadata": {},
   "outputs": [
    {
     "name": "stdin",
     "output_type": "stream",
     "text": [
      "Enter a number:  0\n"
     ]
    },
    {
     "name": "stdout",
     "output_type": "stream",
     "text": [
      "Invalid input. Please enter a valid number.\n",
      "Execution complete.\n"
     ]
    }
   ],
   "source": [
    "try:\n",
    "    # Code that might cause an exception\n",
    "    number = int(input(\"Enter a number: \"))\n",
    "    result = 10 / number    \n",
    "    print(f\"The result is: {result}\")\n",
    "\n",
    "except ValueError:\n",
    "    # Handles invalid input (e.g., non-integer)\n",
    "    print(\"Invalid input. Please enter a valid number.\")\n",
    "except ZeroDivisionError:\n",
    "    # Handles division by zero\n",
    "    print(\"Division by zero is not allowed.\")\n",
    "else:\n",
    "    # Runs if no exception occurs\n",
    "    print(f\"The result is: {result}\")\n",
    "finally:\n",
    "    # Always executes\n",
    "    print(\"Execution complete.\")"
   ]
  },
  {
   "cell_type": "code",
   "execution_count": null,
   "metadata": {},
   "outputs": [],
   "source": [
    "try:\n",
    "    # Code that might cause an exception\n",
    "    file_name = input(\"Enter a file name to read: \")\n",
    "    with open(file_name, 'r') as file:\n",
    "        content = file.read()\n",
    "    print(\"File content:\", content)\n",
    "except:\n",
    "    # Catches any exception\n",
    "    print(\"An error occurred while processing the file.\")\n",
    "else:\n",
    "    # Runs if no exception occurs\n",
    "    print(\"File read successfully.\")\n",
    "finally:\n",
    "    # Always executes\n",
    "    print(\"Operation completed.\")"
   ]
  },
  {
   "cell_type": "code",
   "execution_count": null,
   "metadata": {},
   "outputs": [],
   "source": [
    "try:\n",
    "    # Sample code that might raise multiple exceptions\n",
    "    filename = input(\"Enter file name: \")\n",
    "    with open(filename, 'r') as file:\n",
    "        number = int(input(\"Enter a number: \"))\n",
    "        result = 10 / number\n",
    "        my_list = [1, 2, 3]\n",
    "        print(my_list[number])  # Access list with user input\n",
    "except FileNotFoundError:\n",
    "    print(\"Error: The file was not found.\")\n",
    "except ValueError:\n",
    "    print(\"Error: Invalid input. Please enter a valid number.\")\n",
    "except ZeroDivisionError:\n",
    "    print(\"Error: Division by zero is not allowed.\")\n",
    "except IndexError:\n",
    "    print(\"Error: Invalid index for the list.\")\n",
    "except Exception as e:\n",
    "    print(f\"An unexpected error occurred: {e}\")\n",
    "finally:\n",
    "    print(\"Operation completed.\")"
   ]
  },
  {
   "cell_type": "code",
   "execution_count": null,
   "metadata": {},
   "outputs": [],
   "source": []
  }
 ],
 "metadata": {
  "kernelspec": {
   "display_name": "Python 3 (ipykernel)",
   "language": "python",
   "name": "python3"
  },
  "language_info": {
   "codemirror_mode": {
    "name": "ipython",
    "version": 3
   },
   "file_extension": ".py",
   "mimetype": "text/x-python",
   "name": "python",
   "nbconvert_exporter": "python",
   "pygments_lexer": "ipython3",
   "version": "3.13.5"
  }
 },
 "nbformat": 4,
 "nbformat_minor": 4
}
