{
 "cells": [
  {
   "cell_type": "markdown",
   "metadata": {},
   "source": [
    "# NumPy Tutorial in Jupyter\n",
    "\n",
    "This notebook demonstrates the core features of **NumPy**, a Python library for numerical computing. We'll cover:\n",
    "- Creating and manipulating arrays\n",
    "- Performing array operations (element-wise, broadcasting)\n",
    "- Linear algebra operations (matrix multiplication, solving equations)\n",
    "- Generating random numbers\n",
    "\n",
    "Run each code cell with `Shift + Enter` to see the output. Ensure NumPy is installed (`pip install numpy`)."
   ]
  },
  {
   "cell_type": "markdown",
   "metadata": {},
   "source": [
    "## 1. Installing and Importing NumPy"
   ]
  },
  {
   "cell_type": "code",
   "execution_count": 2,
   "metadata": {},
   "outputs": [],
   "source": [
    "# Install NumPy (uncomment if needed)\n",
    "# !pip install numpy\n",
    "# py -m pip install numpy\n",
    "\n",
    "\n",
    "# Import NumPy\n",
    "import numpy as np"
   ]
  },
  {
   "cell_type": "markdown",
   "metadata": {},
   "source": [
    "## 2. Creating and Manipulating Arrays\n",
    "\n",
    "NumPy's core object is the `ndarray`, \n",
    "a multi-dimensional array for efficient data storage and manipulation."
   ]
  },
  {
   "cell_type": "code",
   "execution_count": 6,
   "metadata": {},
   "outputs": [
    {
     "name": "stdout",
     "output_type": "stream",
     "text": [
      "1D Array: [1 2 3 4]\n",
      "\n",
      "2D Array:\n",
      " [[1 2]\n",
      " [3 4]\n",
      " [5 6]]\n",
      "\n",
      "Zeros:\n",
      " [[0. 0. 0.]\n",
      " [0. 0. 0.]]\n",
      "\n",
      "Ones:\n",
      " [[1. 1.]\n",
      " [1. 1.]\n",
      " [1. 1.]]\n",
      "\n",
      "Arange: [0 2 4 6 8]\n",
      "\n",
      "Linspace: [0.00000000e+00 9.00090009e-05 1.80018002e-04 ... 9.99819982e-01\n",
      " 9.99909991e-01 1.00000000e+00]\n"
     ]
    }
   ],
   "source": [
    "# Create a 1D array\n",
    "arr1 = np.array([1, 2, 3, 4])\n",
    "print(\"1D Array:\", arr1)\n",
    "\n",
    "# Create a 2D array (matrix)\n",
    "arr2 = np.array([[1, 2], [3, 4], [5, 6]])\n",
    "print(\"\\n2D Array:\\n\", arr2)\n",
    "\n",
    "# Create arrays with special values\n",
    "zeros = np.zeros((2, 3))  # 2x3 array of zeros\n",
    "ones = np.ones((3, 2))   # 3x2 array of ones\n",
    "range_arr = np.arange(0, 10, 2)  # Array from 0 to 8, step 2\n",
    "linspace_arr = np.linspace(0, 1, 5)  # 5 evenly spaced values from 0 to 1\n",
    "\n",
    "print(\"\\nZeros:\\n\", zeros)\n",
    "print(\"\\nOnes:\\n\", ones)\n",
    "print(\"\\nArange:\", range_arr)\n",
    "print(\"\\nLinspace:\", linspace_arr)"
   ]
  },
  {
   "cell_type": "code",
   "execution_count": 7,
   "metadata": {},
   "outputs": [
    {
     "name": "stdout",
     "output_type": "stream",
     "text": [
      "Shape: (2, 3)\n",
      "Size: 6\n",
      "Data type: int64\n",
      "\n",
      "First row: [1 2 3]\n",
      "Element at [1, 2]: 6\n",
      "First column:\n",
      " [1 4]\n"
     ]
    }
   ],
   "source": [
    "# Array properties\n",
    "arr = np.array([[1, 2, 3], [4, 5, 6]])\n",
    "print(\"Shape:\", arr.shape)  # (rows, columns)\n",
    "print(\"Size:\", arr.size)   # Total number of elements\n",
    "print(\"Data type:\", arr.dtype)  # Data type of elements\n",
    "\n",
    "# Indexing and slicing\n",
    "print(\"\\nFirst row:\", arr[0])\n",
    "print(\"Element at [1, 2]:\", arr[1, 2])  # Row 1, column 2\n",
    "print(\"First column:\\n\", arr[:, 0])  # All rows, column 0"
   ]
  },
  {
   "cell_type": "markdown",
   "metadata": {},
   "source": [
    "## 3. Array Operations\n",
    "\n",
    "NumPy supports element-wise operations, broadcasting, and aggregations."
   ]
  },
  {
   "cell_type": "code",
   "execution_count": 8,
   "metadata": {},
   "outputs": [
    {
     "name": "stdout",
     "output_type": "stream",
     "text": [
      "Addition: [5 7 9]\n",
      "Multiplication: [ 4 10 18]\n",
      "Square: [1 4 9]\n",
      "Add 10 to all elements: [11 12 13]\n",
      "Sine of a: [0.84147098 0.90929743 0.14112001]\n",
      "Sum of a: 6\n",
      "Mean of a: 2.0\n"
     ]
    }
   ],
   "source": [
    "# Create arrays\n",
    "a = np.array([1, 2, 3])\n",
    "b = np.array([4, 5, 6])\n",
    "\n",
    "# Element-wise operations\n",
    "print(\"Addition:\", a + b)\n",
    "print(\"Multiplication:\", a * b)\n",
    "print(\"Square:\", a ** 2)\n",
    "\n",
    "# Broadcasting: Add scalar to array\n",
    "print(\"Add 10 to all elements:\", a + 10)\n",
    "\n",
    "# Universal functions (ufuncs)\n",
    "print(\"Sine of a:\", np.sin(a))\n",
    "print(\"Sum of a:\", np.sum(a))\n",
    "print(\"Mean of a:\", np.mean(a))"
   ]
  },
  {
   "cell_type": "markdown",
   "metadata": {},
   "source": [
    "## 4. Linear Algebra\n",
    "\n",
    "NumPy's `linalg` module provides tools for matrix operations, solving equations, and more."
   ]
  },
  {
   "cell_type": "code",
   "execution_count": 8,
   "metadata": {},
   "outputs": [
    {
     "name": "stdout",
     "output_type": "stream",
     "text": [
      "Matrix A:\n",
      " [[1 2]\n",
      " [3 4]]\n",
      "\n",
      "Matrix B:\n",
      " [[5 6]\n",
      " [7 8]]\n",
      "\n",
      "Matrix multiplication (A @ B):\n",
      " [[19 22]\n",
      " [43 50]]\n"
     ]
    }
   ],
   "source": [
    "# Matrix multiplication\n",
    "A = np.array([[1, 2], [3, 4]])\n",
    "B = np.array([[5, 6], [7, 8]])\n",
    "\n",
    "matmul = np.matmul(A, B)\n",
    "dot = A @ B  # Alternative syntax\n",
    "print(\"Matrix A:\\n\", A)\n",
    "print(\"\\nMatrix B:\\n\", B)\n",
    "print(\"\\nMatrix multiplication (A @ B):\\n\", dot)"
   ]
  },
  {
   "cell_type": "code",
   "execution_count": 9,
   "metadata": {},
   "outputs": [
    {
     "name": "stdout",
     "output_type": "stream",
     "text": [
      "Solution (x, y): [1. 3.]\n",
      "Verification (A @ x): [ 5. 10.]\n"
     ]
    }
   ],
   "source": [
    "# Solving a system of linear equations\n",
    "# 2x + y = 5\n",
    "# x + 3y = 10\n",
    "A = np.array([[2, 1], [1, 3]])\n",
    "b = np.array([5, 10])\n",
    "\n",
    "x = np.linalg.solve(A, b)\n",
    "print(\"Solution (x, y):\", x)\n",
    "print(\"Verification (A @ x):\", A @ x)"
   ]
  },
  {
   "cell_type": "code",
   "execution_count": 10,
   "metadata": {},
   "outputs": [
    {
     "name": "stdout",
     "output_type": "stream",
     "text": [
      "Determinant of A: 5.000000000000001\n",
      "\n",
      "Inverse of A:\n",
      " [[ 0.6 -0.2]\n",
      " [-0.2  0.4]]\n",
      "\n",
      "A @ A_inv (should be identity):\n",
      " [[ 1.00000000e+00  0.00000000e+00]\n",
      " [-5.55111512e-17  1.00000000e+00]]\n"
     ]
    }
   ],
   "source": [
    "# Determinants and inverses\n",
    "det = np.linalg.det(A)\n",
    "print(\"Determinant of A:\", det)\n",
    "\n",
    "inv_A = np.linalg.inv(A)\n",
    "print(\"\\nInverse of A:\\n\", inv_A)\n",
    "\n",
    "identity = A @ inv_A\n",
    "print(\"\\nA @ A_inv (should be identity):\\n\", identity)"
   ]
  },
  {
   "cell_type": "markdown",
   "metadata": {},
   "source": [
    "## 5. Random Number Generation\n",
    "\n",
    "NumPy's `random` module is useful for simulations and testing."
   ]
  },
  {
   "cell_type": "code",
   "execution_count": 11,
   "metadata": {},
   "outputs": [
    {
     "name": "stdout",
     "output_type": "stream",
     "text": [
      "Random integers (2x3):\n",
      " [[8 7 8]\n",
      " [9 9 4]]\n",
      "\n",
      "Random normal (2x2):\n",
      " [[ 1.33368001 -0.95418842]\n",
      " [ 0.55702381  1.14650159]]\n"
     ]
    }
   ],
   "source": [
    "# Set seed for reproducibility\n",
    "np.random.seed(47)\n",
    "\n",
    "# Random integers between 1 and 10\n",
    "rand_ints = np.random.randint(1, 11, size=(2, 3))\n",
    "print(\"Random integers (2x3):\\n\", rand_ints)\n",
    "\n",
    "# Random floats from normal distribution\n",
    "rand_norm = np.random.normal(loc=0, scale=1, size=(2, 2))\n",
    "print(\"\\nRandom normal (2x2):\\n\", rand_norm)"
   ]
  },
  {
   "cell_type": "markdown",
   "metadata": {},
   "source": [
    "## 6. Next Steps\n",
    "\n",
    "- Try modifying array shapes or operations.\n",
    "- Explore advanced NumPy functions (e.g., `np.fft`, `np.where`).\n",
    "- Combine with Matplotlib for visualizations (add `%matplotlib inline`).\n",
    "\n",
    "For more, check the [NumPy documentation](https://numpy.org/doc/stable/)."
   ]
  },
  {
   "cell_type": "code",
   "execution_count": null,
   "metadata": {},
   "outputs": [],
   "source": []
  }
 ],
 "metadata": {
  "kernelspec": {
   "display_name": "Python 3 (ipykernel)",
   "language": "python",
   "name": "python3"
  },
  "language_info": {
   "codemirror_mode": {
    "name": "ipython",
    "version": 3
   },
   "file_extension": ".py",
   "mimetype": "text/x-python",
   "name": "python",
   "nbconvert_exporter": "python",
   "pygments_lexer": "ipython3",
   "version": "3.13.5"
  }
 },
 "nbformat": 4,
 "nbformat_minor": 4
}
