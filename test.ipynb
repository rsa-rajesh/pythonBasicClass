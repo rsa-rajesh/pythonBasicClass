{
 "cells": [
  {
   "cell_type": "code",
   "execution_count": 2,
   "id": "188221d0-0dae-45b3-baff-97e2abc2aa79",
   "metadata": {},
   "outputs": [
    {
     "name": "stdout",
     "output_type": "stream",
     "text": [
      "hi\n"
     ]
    }
   ],
   "source": [
    "print(\"hi\")"
   ]
  },
  {
   "cell_type": "code",
   "execution_count": 3,
   "id": "45a918fc-2228-4165-ad5f-9fadf18f3058",
   "metadata": {},
   "outputs": [
    {
     "name": "stdout",
     "output_type": "stream",
     "text": [
      "4\n"
     ]
    }
   ],
   "source": [
    "print(4)"
   ]
  },
  {
   "cell_type": "code",
   "execution_count": 4,
   "id": "831e9741-ff88-430b-ba7b-8498f137d578",
   "metadata": {},
   "outputs": [
    {
     "name": "stdout",
     "output_type": "stream",
     "text": [
      "hi\n"
     ]
    }
   ],
   "source": [
    "print('hi')"
   ]
  },
  {
   "cell_type": "code",
   "execution_count": null,
   "id": "0b0b854a-39ee-43d8-bba0-d93681d504a2",
   "metadata": {},
   "outputs": [],
   "source": [
    "print(4+5)"
   ]
  },
  {
   "cell_type": "code",
   "execution_count": 18,
   "id": "7a0800b2-bad3-4809-a130-95e7c62ad285",
   "metadata": {},
   "outputs": [
    {
     "name": "stdout",
     "output_type": "stream",
     "text": [
      "name = Rajesh\n"
     ]
    }
   ],
   "source": [
    "name = \"Rajesh\"\n",
    "print('name = '+name)"
   ]
  },
  {
   "cell_type": "code",
   "execution_count": 20,
   "id": "8f39d6b8-8b9b-42a0-9464-8ccd813cfe81",
   "metadata": {},
   "outputs": [
    {
     "name": "stdout",
     "output_type": "stream",
     "text": [
      "4+5\n"
     ]
    }
   ],
   "source": [
    "print('4+5')"
   ]
  },
  {
   "cell_type": "code",
   "execution_count": 9,
   "id": "8e6af3b3-c16c-461e-aa17-c51fe6a4a1ed",
   "metadata": {},
   "outputs": [
    {
     "name": "stdout",
     "output_type": "stream",
     "text": [
      "30\n",
      "31\n"
     ]
    }
   ],
   "source": [
    "age = 30\n",
    "print(age)  # Outputs: 30\n",
    "age = 31  # Variable value can be overwritten\n",
    "print(age)  # Outputs: 31"
   ]
  },
  {
   "cell_type": "code",
   "execution_count": 15,
   "id": "6cf7446e-2c57-40d8-97d4-792f3ff9e2da",
   "metadata": {},
   "outputs": [
    {
     "name": "stdout",
     "output_type": "stream",
     "text": [
      "5\n",
      "hello\n",
      "8.14\n"
     ]
    }
   ],
   "source": [
    "x = 5  # x is an integer\n",
    "y = \"hello\"  # y is a string\n",
    "z = 3.14  # z is a float\n",
    "print(x)\n",
    "print(y)\n",
    "print(x+z)"
   ]
  },
  {
   "cell_type": "code",
   "execution_count": 16,
   "id": "d23a80a0-b712-47c9-9f24-475f87cbc5e1",
   "metadata": {},
   "outputs": [
    {
     "name": "stdout",
     "output_type": "stream",
     "text": [
      "<class 'int'>\n",
      "<class 'float'>\n",
      "<class 'complex'>\n",
      "<class 'str'>\n",
      "H\n",
      "<class 'list'>\n",
      "[1, 2, 3, 4]\n",
      "<class 'tuple'>\n",
      "10\n",
      "<class 'set'>\n",
      "{1, 2, 3}\n",
      "<class 'dict'>\n",
      "Bob\n",
      "<class 'bool'>\n",
      "True\n",
      "<class 'NoneType'>\n",
      "None\n",
      "105\n",
      "True\n"
     ]
    }
   ],
   "source": [
    "#Example of Variable Assignment:\n",
    "name = \"Alice\"  # String variable\n",
    "age = 25        # Integer variable\n",
    "height = 5.6    # Float variable\n",
    "is_student = True  # Boolean variable\n",
    "x = 42\n",
    "print(type(x))  # <class 'int'>\n",
    "y = 3.14\n",
    "print(type(y))  # <class 'float'>\n",
    "z = 3 + 4j\n",
    "print(type(z))  # <class 'complex'>\n",
    "\n",
    "greeting = \"Hello, World!\"\n",
    "print(type(greeting))  # <class 'str'>\n",
    "print(greeting[0])     # 'H'\n",
    "\n",
    "numbers = [1, 2, 3]\n",
    "numbers.append(4)\n",
    "print(type(numbers))  # <class 'list'>\n",
    "print(numbers)        # [1, 2, 3, 4]\n",
    "\n",
    "point = (10, 20)\n",
    "print(type(point))  # <class 'tuple'>\n",
    "print(point[0])     # 10\n",
    "\n",
    "unique_nums = {1, 2, 2, 3}\n",
    "print(type(unique_nums))  # <class 'set'>\n",
    "print(unique_nums)        # {1, 2, 3}\n",
    "\n",
    "person = {\"name\": \"Bob\", \"age\": 30}\n",
    "print(type(person))  # <class 'dict'>\n",
    "print(person[\"name\"])  # 'Bob'\n",
    "\n",
    "is_active = True\n",
    "print(type(is_active))  # <class 'bool'>\n",
    "print(is_active)        # True\n",
    "\n",
    "result = None\n",
    "print(type(result))  # <class 'NoneType'>\n",
    "print(result)        # None\n",
    "\n",
    "#conversion\n",
    "num_str = \"100\"\n",
    "num = int(num_str)\n",
    "print(num + 5)  # 105\n",
    "\n",
    "#Type Checking\n",
    "x = 3.14\n",
    "print(isinstance(x, float))  # True"
   ]
  },
  {
   "cell_type": "code",
   "execution_count": 2,
   "id": "9fdb270e-f2f5-487c-afff-277ca7c5c384",
   "metadata": {},
   "outputs": [
    {
     "name": "stdin",
     "output_type": "stream",
     "text": [
      "Enter your age:  45\n"
     ]
    },
    {
     "name": "stdout",
     "output_type": "stream",
     "text": [
      "You are 45 years old.\n"
     ]
    }
   ],
   "source": [
    "# Prompt user for age and convert to integer\n",
    "try:\n",
    "    age = int(input(\"Enter your age: \"))\n",
    "    print(f\"You are {age} years old.\")\n",
    "except ValueError:\n",
    "    print(\"Please enter a valid number.\")"
   ]
  },
  {
   "cell_type": "code",
   "execution_count": null,
   "id": "88f4ef25-5028-4923-91d2-0cb5f8432197",
   "metadata": {},
   "outputs": [],
   "source": []
  }
 ],
 "metadata": {
  "kernelspec": {
   "display_name": "Python 3 (ipykernel)",
   "language": "python",
   "name": "python3"
  },
  "language_info": {
   "codemirror_mode": {
    "name": "ipython",
    "version": 3
   },
   "file_extension": ".py",
   "mimetype": "text/x-python",
   "name": "python",
   "nbconvert_exporter": "python",
   "pygments_lexer": "ipython3",
   "version": "3.13.5"
  }
 },
 "nbformat": 4,
 "nbformat_minor": 5
}
